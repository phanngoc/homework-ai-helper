{
 "cells": [
  {
   "cell_type": "markdown",
   "metadata": {},
   "source": [
    "# Testing openai cho việc giải toán."
   ]
  },
  {
   "cell_type": "code",
   "execution_count": 24,
   "metadata": {},
   "outputs": [],
   "source": [
    "from openai import OpenAI\n",
    "import os\n",
    "import base64\n",
    "import requests\n",
    "from dotenv import load_dotenv\n",
    "load_dotenv('../.env')\n",
    "\n",
    "client = OpenAI(api_key=os.getenv('OPENAI_API_KEY'))"
   ]
  },
  {
   "cell_type": "code",
   "execution_count": 7,
   "metadata": {},
   "outputs": [],
   "source": [
    "# Function to encode the image\n",
    "def encode_image(image_path):\n",
    "  with open(image_path, \"rb\") as image_file:\n",
    "    return base64.b64encode(image_file.read()).decode('utf-8')\n"
   ]
  },
  {
   "cell_type": "code",
   "execution_count": 19,
   "metadata": {},
   "outputs": [
    {
     "name": "stdout",
     "output_type": "stream",
     "text": [
      "iVBORw0KGgoAAAANSUhEUgAABJ4AAACgCAYAAABNLKYkAAAMPmlDQ1BJQ0MgUHJvZmlsZQAASImVVwdYU8kWnltSIbQAAlJCb4KI\n"
     ]
    }
   ],
   "source": [
    "image_url = \"./toan-trac-nghiem.png\"\n",
    "image_base64 = encode_image(image_url)\n",
    "print(image_base64[:100])"
   ]
  },
  {
   "cell_type": "code",
   "execution_count": 21,
   "metadata": {},
   "outputs": [],
   "source": [
    "system_message = \"Bạn là một giáo viên toán cấp 3, đang hướng dẫn học sinh thi tốt nghiệp đại học.\"\n",
    "response = client.chat.completions.create(\n",
    "  model=\"gpt-4o-mini\",\n",
    "  messages=[\n",
    "    {\"role\": \"system\", \"content\": system_message},\n",
    "    {\n",
    "        \"role\": \"user\",\n",
    "        \"content\": [\n",
    "        {\n",
    "            \"type\": \"text\",\n",
    "            \"text\": \"Chọn đáp án đúng và đưa ra lời giải thích\",\n",
    "        },\n",
    "        {\n",
    "            \"type\": \"image_url\",\n",
    "            \"image_url\": {\n",
    "                \"url\": f\"data:image/jpeg;base64,{image_base64}\"\n",
    "            },\n",
    "        },\n",
    "      ]\n",
    "    },\n",
    "  ],\n",
    "  max_tokens=300,\n",
    ")"
   ]
  },
  {
   "cell_type": "code",
   "execution_count": 26,
   "metadata": {},
   "outputs": [
    {
     "name": "stdout",
     "output_type": "stream",
     "text": [
      "Để giải bài toán này, ta sử dụng định lý logarithm và các tính chất của logarit:\n",
      "\n",
      "Ta có:\n",
      "\\[\n",
      "\\ln(7a) - \\ln(3a)\n",
      "\\]\n",
      "\n",
      "Áp dụng tính chất của logarit:\n",
      "\\[\n",
      "\\ln(a) - \\ln(b) = \\ln\\left(\\frac{a}{b}\\right)\n",
      "\\]\n",
      "Vậy ta sẽ có:\n",
      "\\[\n",
      "\\ln(7a) - \\ln(3a) = \\ln\\left(\\frac{7a}{3a}\\right)\n",
      "\\]\n",
      "\n",
      "Rút gọn biểu thức bên trong:\n",
      "\\[\n",
      "\\frac{7a}{3a} = \\frac{7}{3}\n",
      "\\]\n",
      "\n",
      "Như vậy, biểu thức sẽ trở thành:\n",
      "\\[\n",
      "\\ln\\left(\\frac{7}{3}\\right)\n",
      "\\]\n",
      "\n",
      "Do đó, đáp án đúng là:\n",
      "\\[\n",
      "\\text{C. } \\ln\\left(\\frac{7}{3}\\right)\n",
      "\\]\n"
     ]
    }
   ],
   "source": [
    "print(response.choices[0].message.content)"
   ]
  },
  {
   "cell_type": "markdown",
   "metadata": {},
   "source": [
    "## Cách sử dụng request API."
   ]
  },
  {
   "cell_type": "code",
   "execution_count": 18,
   "metadata": {},
   "outputs": [
    {
     "name": "stdout",
     "output_type": "stream",
     "text": [
      "{'id': 'chatcmpl-9zfkvyMEqBwpbgWgMI5EZko1iGfvp', 'object': 'chat.completion', 'created': 1724485545, 'model': 'gpt-4o-mini-2024-07-18', 'choices': [{'index': 0, 'message': {'role': 'assistant', 'content': 'Để giải bài toán này, ta sử dụng tính chất của logarithm tự nhiên.\\n\\nTa có:\\n\\n\\\\[\\n\\\\ln(7a) - \\\\ln(3a) = \\\\ln\\\\left(\\\\frac{7a}{3a}\\\\right)\\n\\\\]\\n\\nKhi đó, \\\\(\\\\ln(a)\\\\) trong tử và mẫu sẽ bị hủy:\\n\\n\\\\[\\n\\\\ln\\\\left(\\\\frac{7a}{3a}\\\\right) = \\\\ln\\\\left(\\\\frac{7}{3}\\\\right)\\n\\\\]\\n\\nVậy, ta sẽ được:\\n\\n\\\\[\\n\\\\ln(7a) - \\\\ln(3a) = \\\\ln\\\\left(\\\\frac{7}{3}\\\\right)\\n\\\\]\\n\\nDo đó, đáp án đúng là:\\n\\n**C. \\\\(\\\\ln\\\\left(\\\\frac{7}{3}\\\\right)\\\\)**.', 'refusal': None}, 'logprobs': None, 'finish_reason': 'stop'}], 'usage': {'prompt_tokens': 19877, 'completion_tokens': 171, 'total_tokens': 20048}, 'system_fingerprint': 'fp_507c9469a1'}\n"
     ]
    }
   ],
   "source": [
    "\n",
    "\n",
    "# OpenAI API Key\n",
    "api_key = os.getenv('OPENAI_API_KEY')\n",
    "system_message = \"Bạn là một giáo viên toán cấp 3, đang hướng dẫn học sinh thi tốt nghiệp đại học.\"\n",
    "\n",
    "# Getting the base64 string\n",
    "base64_image = encode_image(image_url)\n",
    "\n",
    "headers = {\n",
    "  \"Content-Type\": \"application/json\",\n",
    "  \"Authorization\": f\"Bearer {api_key}\"\n",
    "}\n",
    "\n",
    "payload = {\n",
    "  \"model\": \"gpt-4o-mini\",\n",
    "  \"messages\": [\n",
    "    {\n",
    "      \"role\": \"system\",\n",
    "      \"content\": system_message\n",
    "    },\n",
    "    {\n",
    "      \"role\": \"user\",\n",
    "      \"content\": [\n",
    "        {\n",
    "          \"type\": \"text\",\n",
    "          \"text\": \"Chọn đáp án đúng và đưa ra lời giải thích\"\n",
    "        },\n",
    "        {\n",
    "          \"type\": \"image_url\",\n",
    "          \"image_url\": {\n",
    "            \"url\": f\"data:image/jpeg;base64,{base64_image}\"\n",
    "          }\n",
    "        }\n",
    "      ]\n",
    "    }\n",
    "  ],\n",
    "  \"max_tokens\": 300\n",
    "}\n",
    "\n",
    "response = requests.post(\"https://api.openai.com/v1/chat/completions\", headers=headers, json=payload)\n",
    "\n",
    "print(response.json())"
   ]
  }
 ],
 "metadata": {
  "kernelspec": {
   "display_name": "Python 3",
   "language": "python",
   "name": "python3"
  },
  "language_info": {
   "codemirror_mode": {
    "name": "ipython",
    "version": 3
   },
   "file_extension": ".py",
   "mimetype": "text/x-python",
   "name": "python",
   "nbconvert_exporter": "python",
   "pygments_lexer": "ipython3",
   "version": "3.10.3"
  }
 },
 "nbformat": 4,
 "nbformat_minor": 2
}
